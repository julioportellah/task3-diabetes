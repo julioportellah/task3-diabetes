{
 "cells": [
  {
   "cell_type": "markdown",
   "source": [
    "# Diabetes dataset clustering analysis\r\n",
    "\r\n",
    "In this notebook, I will use a clustering algorithm to detect clusters in patients based in the hospitalization outcome. The procedure will be the following\r\n",
    "\r\n",
    "**1** Exploration Data Analysis\r\n",
    "\r\n",
    "**2** Data celaning\r\n",
    "\r\n",
    "**3** Clustering\r\n",
    "\r\n",
    "**4** Conclusion"
   ],
   "metadata": {}
  },
  {
   "cell_type": "code",
   "execution_count": 1,
   "source": [
    "import pandas as pd\r\n",
    "import numpy as np\r\n",
    "import seaborn as sns\r\n",
    "import matplotlib.pyplot as plt\r\n",
    "from imblearn.over_sampling import SMOTE\r\n",
    "from sklearn import metrics\r\n",
    "from sklearn.preprocessing import MaxAbsScaler\r\n",
    "from sklearn.linear_model import SGDClassifier\r\n",
    "from sklearn.metrics import accuracy_score\r\n",
    "import shap"
   ],
   "outputs": [],
   "metadata": {}
  },
  {
   "cell_type": "markdown",
   "source": [
    "## EDA"
   ],
   "metadata": {}
  },
  {
   "cell_type": "markdown",
   "source": [
    "### Reading the dataset\r\n",
    "In this section we are reading the dataset using Pandas, the standard procedure"
   ],
   "metadata": {}
  },
  {
   "cell_type": "code",
   "execution_count": 2,
   "source": [
    "data = pd.read_csv('./data/diabetic_data.csv')\r\n",
    "data.head()"
   ],
   "outputs": [
    {
     "output_type": "execute_result",
     "data": {
      "text/plain": [
       "   encounter_id  patient_nbr             race  gender      age weight  \\\n",
       "0       2278392      8222157        Caucasian  Female   [0-10)      ?   \n",
       "1        149190     55629189        Caucasian  Female  [10-20)      ?   \n",
       "2         64410     86047875  AfricanAmerican  Female  [20-30)      ?   \n",
       "3        500364     82442376        Caucasian    Male  [30-40)      ?   \n",
       "4         16680     42519267        Caucasian    Male  [40-50)      ?   \n",
       "\n",
       "   admission_type_id  discharge_disposition_id  admission_source_id  \\\n",
       "0                  6                        25                    1   \n",
       "1                  1                         1                    7   \n",
       "2                  1                         1                    7   \n",
       "3                  1                         1                    7   \n",
       "4                  1                         1                    7   \n",
       "\n",
       "   time_in_hospital  ... citoglipton insulin  glyburide-metformin  \\\n",
       "0                 1  ...          No      No                   No   \n",
       "1                 3  ...          No      Up                   No   \n",
       "2                 2  ...          No      No                   No   \n",
       "3                 2  ...          No      Up                   No   \n",
       "4                 1  ...          No  Steady                   No   \n",
       "\n",
       "   glipizide-metformin  glimepiride-pioglitazone  metformin-rosiglitazone  \\\n",
       "0                   No                        No                       No   \n",
       "1                   No                        No                       No   \n",
       "2                   No                        No                       No   \n",
       "3                   No                        No                       No   \n",
       "4                   No                        No                       No   \n",
       "\n",
       "   metformin-pioglitazone  change diabetesMed readmitted  \n",
       "0                      No      No          No         NO  \n",
       "1                      No      Ch         Yes        >30  \n",
       "2                      No      No         Yes         NO  \n",
       "3                      No      Ch         Yes         NO  \n",
       "4                      No      Ch         Yes         NO  \n",
       "\n",
       "[5 rows x 50 columns]"
      ],
      "text/html": [
       "<div>\n",
       "<style scoped>\n",
       "    .dataframe tbody tr th:only-of-type {\n",
       "        vertical-align: middle;\n",
       "    }\n",
       "\n",
       "    .dataframe tbody tr th {\n",
       "        vertical-align: top;\n",
       "    }\n",
       "\n",
       "    .dataframe thead th {\n",
       "        text-align: right;\n",
       "    }\n",
       "</style>\n",
       "<table border=\"1\" class=\"dataframe\">\n",
       "  <thead>\n",
       "    <tr style=\"text-align: right;\">\n",
       "      <th></th>\n",
       "      <th>encounter_id</th>\n",
       "      <th>patient_nbr</th>\n",
       "      <th>race</th>\n",
       "      <th>gender</th>\n",
       "      <th>age</th>\n",
       "      <th>weight</th>\n",
       "      <th>admission_type_id</th>\n",
       "      <th>discharge_disposition_id</th>\n",
       "      <th>admission_source_id</th>\n",
       "      <th>time_in_hospital</th>\n",
       "      <th>...</th>\n",
       "      <th>citoglipton</th>\n",
       "      <th>insulin</th>\n",
       "      <th>glyburide-metformin</th>\n",
       "      <th>glipizide-metformin</th>\n",
       "      <th>glimepiride-pioglitazone</th>\n",
       "      <th>metformin-rosiglitazone</th>\n",
       "      <th>metformin-pioglitazone</th>\n",
       "      <th>change</th>\n",
       "      <th>diabetesMed</th>\n",
       "      <th>readmitted</th>\n",
       "    </tr>\n",
       "  </thead>\n",
       "  <tbody>\n",
       "    <tr>\n",
       "      <th>0</th>\n",
       "      <td>2278392</td>\n",
       "      <td>8222157</td>\n",
       "      <td>Caucasian</td>\n",
       "      <td>Female</td>\n",
       "      <td>[0-10)</td>\n",
       "      <td>?</td>\n",
       "      <td>6</td>\n",
       "      <td>25</td>\n",
       "      <td>1</td>\n",
       "      <td>1</td>\n",
       "      <td>...</td>\n",
       "      <td>No</td>\n",
       "      <td>No</td>\n",
       "      <td>No</td>\n",
       "      <td>No</td>\n",
       "      <td>No</td>\n",
       "      <td>No</td>\n",
       "      <td>No</td>\n",
       "      <td>No</td>\n",
       "      <td>No</td>\n",
       "      <td>NO</td>\n",
       "    </tr>\n",
       "    <tr>\n",
       "      <th>1</th>\n",
       "      <td>149190</td>\n",
       "      <td>55629189</td>\n",
       "      <td>Caucasian</td>\n",
       "      <td>Female</td>\n",
       "      <td>[10-20)</td>\n",
       "      <td>?</td>\n",
       "      <td>1</td>\n",
       "      <td>1</td>\n",
       "      <td>7</td>\n",
       "      <td>3</td>\n",
       "      <td>...</td>\n",
       "      <td>No</td>\n",
       "      <td>Up</td>\n",
       "      <td>No</td>\n",
       "      <td>No</td>\n",
       "      <td>No</td>\n",
       "      <td>No</td>\n",
       "      <td>No</td>\n",
       "      <td>Ch</td>\n",
       "      <td>Yes</td>\n",
       "      <td>&gt;30</td>\n",
       "    </tr>\n",
       "    <tr>\n",
       "      <th>2</th>\n",
       "      <td>64410</td>\n",
       "      <td>86047875</td>\n",
       "      <td>AfricanAmerican</td>\n",
       "      <td>Female</td>\n",
       "      <td>[20-30)</td>\n",
       "      <td>?</td>\n",
       "      <td>1</td>\n",
       "      <td>1</td>\n",
       "      <td>7</td>\n",
       "      <td>2</td>\n",
       "      <td>...</td>\n",
       "      <td>No</td>\n",
       "      <td>No</td>\n",
       "      <td>No</td>\n",
       "      <td>No</td>\n",
       "      <td>No</td>\n",
       "      <td>No</td>\n",
       "      <td>No</td>\n",
       "      <td>No</td>\n",
       "      <td>Yes</td>\n",
       "      <td>NO</td>\n",
       "    </tr>\n",
       "    <tr>\n",
       "      <th>3</th>\n",
       "      <td>500364</td>\n",
       "      <td>82442376</td>\n",
       "      <td>Caucasian</td>\n",
       "      <td>Male</td>\n",
       "      <td>[30-40)</td>\n",
       "      <td>?</td>\n",
       "      <td>1</td>\n",
       "      <td>1</td>\n",
       "      <td>7</td>\n",
       "      <td>2</td>\n",
       "      <td>...</td>\n",
       "      <td>No</td>\n",
       "      <td>Up</td>\n",
       "      <td>No</td>\n",
       "      <td>No</td>\n",
       "      <td>No</td>\n",
       "      <td>No</td>\n",
       "      <td>No</td>\n",
       "      <td>Ch</td>\n",
       "      <td>Yes</td>\n",
       "      <td>NO</td>\n",
       "    </tr>\n",
       "    <tr>\n",
       "      <th>4</th>\n",
       "      <td>16680</td>\n",
       "      <td>42519267</td>\n",
       "      <td>Caucasian</td>\n",
       "      <td>Male</td>\n",
       "      <td>[40-50)</td>\n",
       "      <td>?</td>\n",
       "      <td>1</td>\n",
       "      <td>1</td>\n",
       "      <td>7</td>\n",
       "      <td>1</td>\n",
       "      <td>...</td>\n",
       "      <td>No</td>\n",
       "      <td>Steady</td>\n",
       "      <td>No</td>\n",
       "      <td>No</td>\n",
       "      <td>No</td>\n",
       "      <td>No</td>\n",
       "      <td>No</td>\n",
       "      <td>Ch</td>\n",
       "      <td>Yes</td>\n",
       "      <td>NO</td>\n",
       "    </tr>\n",
       "  </tbody>\n",
       "</table>\n",
       "<p>5 rows × 50 columns</p>\n",
       "</div>"
      ]
     },
     "metadata": {},
     "execution_count": 2
    }
   ],
   "metadata": {}
  },
  {
   "cell_type": "code",
   "execution_count": 75,
   "source": [
    "print('Number of rows', data.shape[0])\r\n",
    "print('Number of columns', data.columns.shape[0])\r\n",
    "print(data.columns)"
   ],
   "outputs": [
    {
     "output_type": "stream",
     "name": "stdout",
     "text": [
      "Number of rows 101766\n",
      "Number of columns 50\n",
      "Index(['encounter_id', 'patient_nbr', 'race', 'gender', 'age', 'weight',\n",
      "       'admission_type_id', 'discharge_disposition_id', 'admission_source_id',\n",
      "       'time_in_hospital', 'payer_code', 'medical_specialty',\n",
      "       'num_lab_procedures', 'num_procedures', 'num_medications',\n",
      "       'number_outpatient', 'number_emergency', 'number_inpatient', 'diag_1',\n",
      "       'diag_2', 'diag_3', 'number_diagnoses', 'max_glu_serum', 'A1Cresult',\n",
      "       'metformin', 'repaglinide', 'nateglinide', 'chlorpropamide',\n",
      "       'glimepiride', 'acetohexamide', 'glipizide', 'glyburide', 'tolbutamide',\n",
      "       'pioglitazone', 'rosiglitazone', 'acarbose', 'miglitol', 'troglitazone',\n",
      "       'tolazamide', 'examide', 'citoglipton', 'insulin',\n",
      "       'glyburide-metformin', 'glipizide-metformin',\n",
      "       'glimepiride-pioglitazone', 'metformin-rosiglitazone',\n",
      "       'metformin-pioglitazone', 'change', 'diabetesMed', 'readmitted'],\n",
      "      dtype='object')\n"
     ]
    }
   ],
   "metadata": {}
  },
  {
   "cell_type": "markdown",
   "source": [
    "**Note:** There is a relevant [paper](https://downloads.hindawi.com/journals/bmri/2014/781670.pdf) where they used the dataset and released to the public. Most of their insights will be used for the analysis. This paper is going to be the benchmark to what we find here in the experiment."
   ],
   "metadata": {}
  },
  {
   "cell_type": "markdown",
   "source": [
    "### Basic exploration plots"
   ],
   "metadata": {}
  },
  {
   "cell_type": "code",
   "execution_count": 4,
   "source": [
    "age_hist = sns.histplot(data=data, x=\"age\")\r\n",
    "age_hist.set_ylabel(\"Number of patient's\", fontsize=20)\r\n",
    "age_hist.set_xlabel(\"Patients' age range\", fontsize=20)"
   ],
   "outputs": [
    {
     "output_type": "execute_result",
     "data": {
      "text/plain": [
       "Text(0.5, 0, \"Patients' age range\")"
      ]
     },
     "metadata": {},
     "execution_count": 4
    },
    {
     "output_type": "display_data",
     "data": {
      "text/plain": [
       "<Figure size 432x288 with 1 Axes>"
      ],
      "image/png": "[encoded data removed]"
     },
     "metadata": {
      "needs_background": "light"
     }
    }
   ],
   "metadata": {}
  },
  {
   "cell_type": "code",
   "execution_count": 5,
   "source": [
    "age_hist = sns.histplot(data=data, x=\"gender\")\r\n",
    "age_hist.set_ylabel(\"Number of patient's\", fontsize=20)\r\n",
    "age_hist.set_xlabel(\"Patients' age range\", fontsize=20)\r\n",
    "(data['gender'].value_counts()/data['gender'].count())*100"
   ],
   "outputs": [
    {
     "output_type": "execute_result",
     "data": {
      "text/plain": [
       "Female             53.758623\n",
       "Male               46.238429\n",
       "Unknown/Invalid     0.002948\n",
       "Name: gender, dtype: float64"
      ]
     },
     "metadata": {},
     "execution_count": 5
    },
    {
     "output_type": "display_data",
     "data": {
      "text/plain": [
       "<Figure size 432x288 with 1 Axes>"
      ],
      "image/png": "[encoded data removed]"
     },
     "metadata": {
      "needs_background": "light"
     }
    }
   ],
   "metadata": {}
  },
  {
   "cell_type": "markdown",
   "source": [
    "As expected most of the diabetic patients are after their middle age. Pediatric diabetes is a rare cases. Curiously, the data is almost even, where the number of females is higher than men with a difference of 6%. Finally, there is no need to keep the unknown/invalid gender in this test."
   ],
   "metadata": {}
  },
  {
   "cell_type": "code",
   "execution_count": 6,
   "source": [
    "age_hist = sns.histplot(data=data, x=\"readmitted\")\r\n",
    "age_hist.set_ylabel(\"Number of patient's\", fontsize=20)\r\n",
    "age_hist.set_xlabel(\"Patients' readmission\", fontsize=20)"
   ],
   "outputs": [
    {
     "output_type": "execute_result",
     "data": {
      "text/plain": [
       "Text(0.5, 0, \"Patients' readmission\")"
      ]
     },
     "metadata": {},
     "execution_count": 6
    },
    {
     "output_type": "display_data",
     "data": {
      "text/plain": [
       "<Figure size 432x288 with 1 Axes>"
      ],
      "image/png": "[encoded data removed]"
     },
     "metadata": {
      "needs_background": "light"
     }
    }
   ],
   "metadata": {}
  },
  {
   "cell_type": "markdown",
   "source": [
    "This is interesting, patients that are readmitted before 30 days are actually a minority"
   ],
   "metadata": {}
  },
  {
   "cell_type": "code",
   "execution_count": 7,
   "source": [
    "(data['readmitted'].value_counts()/data['readmitted'].count())*100"
   ],
   "outputs": [
    {
     "output_type": "execute_result",
     "data": {
      "text/plain": [
       "NO     53.911916\n",
       ">30    34.928169\n",
       "<30    11.159916\n",
       "Name: readmitted, dtype: float64"
      ]
     },
     "metadata": {},
     "execution_count": 7
    }
   ],
   "metadata": {}
  },
  {
   "cell_type": "markdown",
   "source": [
    "As expected 11% of the cases were readmitted before 30 days and 35% of them after. The rest didn't go to the hospital network again. There are many things to explore with just the EDA. The next thing to do is to see if there is a visual relationship between the readmission and some parameters. "
   ],
   "metadata": {}
  },
  {
   "cell_type": "code",
   "execution_count": 8,
   "source": [
    "fig, ax = plt.subplots()\r\n",
    "sns.distplot(data.loc[data.readmitted == 'NO']['time_in_hospital'].values, rug=True, hist=False, ax=ax, color ='r')\r\n",
    "sns.distplot(data.loc[data.readmitted == '>30']['time_in_hospital'].values, rug=True, hist=False, ax=ax)\r\n",
    "sns.distplot(data.loc[data.readmitted == '<30']['time_in_hospital'].values, rug=True, hist=False, ax=ax, color ='g')\r\n",
    "fig.legend(labels=['No readmission','Readmitted after 30 days','Readmitted before 30 days'])\r\n",
    "plt.show()"
   ],
   "outputs": [
    {
     "output_type": "stream",
     "name": "stderr",
     "text": [
      "`distplot` is a deprecated function and will be removed in a future version. Please adapt your code to use either `displot` (a figure-level function with similar flexibility) or `kdeplot` (an axes-level function for kernel density plots).\n",
      "The `axis` variable is no longer used and will be removed. Instead, assign variables directly to `x` or `y`.\n",
      "`distplot` is a deprecated function and will be removed in a future version. Please adapt your code to use either `displot` (a figure-level function with similar flexibility) or `kdeplot` (an axes-level function for kernel density plots).\n",
      "The `axis` variable is no longer used and will be removed. Instead, assign variables directly to `x` or `y`.\n",
      "`distplot` is a deprecated function and will be removed in a future version. Please adapt your code to use either `displot` (a figure-level function with similar flexibility) or `kdeplot` (an axes-level function for kernel density plots).\n",
      "The `axis` variable is no longer used and will be removed. Instead, assign variables directly to `x` or `y`.\n"
     ]
    },
    {
     "output_type": "display_data",
     "data": {
      "text/plain": [
       "<Figure size 432x288 with 1 Axes>"
      ],
      "image/png": "[encoded data removed]"
     },
     "metadata": {
      "needs_background": "light"
     }
    }
   ],
   "metadata": {}
  },
  {
   "cell_type": "markdown",
   "source": [
    "It seems that there is no apperent relationship or pattern for the patient's time at the hospital. Let's try with another variable"
   ],
   "metadata": {}
  },
  {
   "cell_type": "code",
   "execution_count": 9,
   "source": [
    "(data['weight'].value_counts()/data['weight'].count())*100"
   ],
   "outputs": [
    {
     "output_type": "execute_result",
     "data": {
      "text/plain": [
       "?            96.858479\n",
       "[75-100)      1.312816\n",
       "[50-75)       0.881434\n",
       "[100-125)     0.614154\n",
       "[125-150)     0.142484\n",
       "[25-50)       0.095317\n",
       "[0-25)        0.047167\n",
       "[150-175)     0.034393\n",
       "[175-200)     0.010809\n",
       ">200          0.002948\n",
       "Name: weight, dtype: float64"
      ]
     },
     "metadata": {},
     "execution_count": 9
    }
   ],
   "metadata": {}
  },
  {
   "cell_type": "markdown",
   "source": [
    "## Data cleaning"
   ],
   "metadata": {}
  },
  {
   "cell_type": "markdown",
   "source": [
    "The step here is to remove the NANs, nulls and columns that have little to no contribution to the detection of patterns and predictions. In this cases the NaNs are expressed as '?'. Thus, the first thing to do is to replace the **'?'** character with NaNs to remove them"
   ],
   "metadata": {}
  },
  {
   "cell_type": "markdown",
   "source": [
    "First, let's remove the patient's number, weight and payer code. Weight has too many nulls and it needs to be removed"
   ],
   "metadata": {}
  },
  {
   "cell_type": "code",
   "execution_count": 10,
   "source": [
    "data_filtered = data.copy()\r\n",
    "data_filtered = data_filtered.drop(['encounter_id','patient_nbr','weight','payer_code'], axis=1)"
   ],
   "outputs": [],
   "metadata": {}
  },
  {
   "cell_type": "code",
   "execution_count": 11,
   "source": [
    "data_filtered = data_filtered.replace('?', np.nan)\r\n",
    "data_filtered = data_filtered.dropna()\r\n",
    "data_filtered.shape"
   ],
   "outputs": [
    {
     "output_type": "execute_result",
     "data": {
      "text/plain": [
       "(49735, 46)"
      ]
     },
     "metadata": {},
     "execution_count": 11
    }
   ],
   "metadata": {}
  },
  {
   "cell_type": "markdown",
   "source": [
    "## Data Processing"
   ],
   "metadata": {}
  },
  {
   "cell_type": "markdown",
   "source": [
    "In this process, the features are going to be generated, many of them will follow the same guidelines from the paper. One of the first things done is to only work with patients that survived. The ones that expired or were sent to hospises were excluded"
   ],
   "metadata": {}
  },
  {
   "cell_type": "code",
   "execution_count": 12,
   "source": [
    "data_filtered = data_filtered.loc[(data_filtered['discharge_disposition_id'] <= 10) | (data_filtered['discharge_disposition_id'] > 14)]\r\n",
    "data_filtered = data_filtered.loc[(data_filtered['discharge_disposition_id'] != 18)] #excluding \"NULL\"\r\n",
    "data_filtered = data_filtered.loc[(data_filtered['discharge_disposition_id'] != 19)] #excluding \"Expired at home. Medicaid only, hospice.\"\r\n",
    "data_filtered = data_filtered.loc[(data_filtered['discharge_disposition_id'] != 20)] #excluding \"Expired in a medical facility. Medicaid only, hospice.\"\r\n",
    "data_filtered = data_filtered.loc[(data_filtered['discharge_disposition_id'] != 21)] #excluding \"Expired, place unknown. Medicaid only, hospice.\"\r\n",
    "data_filtered = data_filtered.loc[(data_filtered['discharge_disposition_id'] != 25)] #excluding \"Not Mapped\"\r\n",
    "data_filtered = data_filtered.loc[(data_filtered['discharge_disposition_id'] != 26)] #excluding \"Unknown/Invalid\""
   ],
   "outputs": [],
   "metadata": {}
  },
  {
   "cell_type": "markdown",
   "source": [
    "Let's binarize the discharge information"
   ],
   "metadata": {}
  },
  {
   "cell_type": "code",
   "execution_count": 13,
   "source": [
    "data_filtered['discharged_home'] = data_filtered['discharge_disposition_id'] == 1"
   ],
   "outputs": [],
   "metadata": {}
  },
  {
   "cell_type": "code",
   "execution_count": 14,
   "source": [
    "(data_filtered['discharged_home'].value_counts()/data_filtered['discharged_home'].count())*100"
   ],
   "outputs": [
    {
     "output_type": "execute_result",
     "data": {
      "text/plain": [
       "True     66.710619\n",
       "False    33.289381\n",
       "Name: discharged_home, dtype: float64"
      ]
     },
     "metadata": {},
     "execution_count": 14
    }
   ],
   "metadata": {}
  },
  {
   "cell_type": "markdown",
   "source": [
    "Let's remove patient with unknown gender"
   ],
   "metadata": {}
  },
  {
   "cell_type": "code",
   "execution_count": 15,
   "source": [
    "data_filtered = data_filtered.loc[data_filtered.gender != 'Unknown/Invalid']"
   ],
   "outputs": [],
   "metadata": {}
  },
  {
   "cell_type": "markdown",
   "source": [
    "Let's group the patients by type of diagnostics. In the paper there is a useful way to classify the primary diagnostics. You can see the details in the following image.\r\n",
    "\r\n",
    "![](DiagnosticsCategories.PNG)"
   ],
   "metadata": {}
  },
  {
   "cell_type": "code",
   "execution_count": 16,
   "source": [
    "def create_type_diagnostics(row):\r\n",
    "    if('E' in row['diag_1']):\r\n",
    "        return 'Other'\r\n",
    "    elif('V' in row['diag_1']):\r\n",
    "        return 'Other'\r\n",
    "    elif (row['diag_1'].split('.')[0] == '250'):\r\n",
    "        return 'Diabetes'\r\n",
    "    elif(int(row['diag_1'])>=390 and int(row['diag_1'])<=459) or row['diag_1']==785:\r\n",
    "        return 'Circulatory'\r\n",
    "    elif((int(row['diag_1'])>=460 and int(row['diag_1'])<=519) or row['diag_1']==786):\r\n",
    "        return 'Respiratory'\r\n",
    "    elif(int(row['diag_1'])>=520 and int(row['diag_1'])<=579) or row['diag_1']==787:\r\n",
    "        return 'Digestive'\r\n",
    "    elif(int(row['diag_1'])>=800 and int(row['diag_1'])<=999):\r\n",
    "        return 'Injury'\r\n",
    "    elif(int(row['diag_1'])>=710 and int(row['diag_1'])<=739):\r\n",
    "        return 'Musculoskeletal'\r\n",
    "    elif(int(row['diag_1'])>=580 and int(row['diag_1'])<=629) or row['diag_1']==788:\r\n",
    "        return 'Genitourinary'\r\n",
    "    elif(int(row['diag_1'])>=140 and int(row['diag_1'])<=239):\r\n",
    "        return 'Neoplasm'\r\n",
    "    else:\r\n",
    "        return 'Other'\r\n",
    "    pass"
   ],
   "outputs": [],
   "metadata": {}
  },
  {
   "cell_type": "code",
   "execution_count": 17,
   "source": [
    "data_filtered['TypeCondition'] = data_filtered.apply(create_type_diagnostics, axis=1)"
   ],
   "outputs": [],
   "metadata": {}
  },
  {
   "cell_type": "markdown",
   "source": [
    "Let's compare the type of condition percentages with the one in the paper:"
   ],
   "metadata": {}
  },
  {
   "cell_type": "code",
   "execution_count": 18,
   "source": [
    "(data_filtered['TypeCondition'].value_counts()/data_filtered['TypeCondition'].count())*100"
   ],
   "outputs": [
    {
     "output_type": "execute_result",
     "data": {
      "text/plain": [
       "Circulatory        30.776265\n",
       "Other              22.658443\n",
       "Respiratory         9.011059\n",
       "Digestive           8.662271\n",
       "Diabetes            8.249681\n",
       "Injury              6.729051\n",
       "Musculoskeletal     5.971927\n",
       "Genitourinary       4.536368\n",
       "Neoplasm            3.404934\n",
       "Name: TypeCondition, dtype: float64"
      ]
     },
     "metadata": {},
     "execution_count": 18
    }
   ],
   "metadata": {}
  },
  {
   "cell_type": "markdown",
   "source": [
    "We can see that is quite similar. There is no abnormal changes compared to the paper proportions. This could be caused by the data we filtered in the process. Because, the rows that have the character '?' were removed, this may affected the proportion but not significatively so we can proceed with the experiment"
   ],
   "metadata": {}
  },
  {
   "cell_type": "markdown",
   "source": [
    "Since this is a skill assessment, and we are tasked to find some patterns and interesing things let's keep it simple. Finally, the medicines are going to be binarized and the final variables are going to be selected"
   ],
   "metadata": {}
  },
  {
   "cell_type": "code",
   "execution_count": 19,
   "source": [
    "medicine_cols = ['metformin', 'repaglinide', 'nateglinide', 'chlorpropamide',\r\n",
    "       'glimepiride', 'acetohexamide', 'glipizide', 'glyburide', 'tolbutamide',\r\n",
    "       'pioglitazone', 'rosiglitazone', 'acarbose', 'miglitol', 'troglitazone',\r\n",
    "       'tolazamide', 'examide', 'citoglipton', 'insulin',\r\n",
    "       'glyburide-metformin', 'glipizide-metformin',\r\n",
    "       'glimepiride-pioglitazone', 'metformin-rosiglitazone',\r\n",
    "       'metformin-pioglitazone']"
   ],
   "outputs": [],
   "metadata": {}
  },
  {
   "cell_type": "code",
   "execution_count": 20,
   "source": [
    "for medicine in medicine_cols:\r\n",
    "    data_filtered[medicine+'_bin'] = data_filtered[medicine] != 'No'"
   ],
   "outputs": [],
   "metadata": {}
  },
  {
   "cell_type": "code",
   "execution_count": 21,
   "source": [
    "data_filtered['any_medicine'] = 0\r\n",
    "for medicine in medicine_cols:\r\n",
    "    data_filtered['any_medicine'] = data_filtered['any_medicine'] + data_filtered[medicine+'_bin']"
   ],
   "outputs": [],
   "metadata": {}
  },
  {
   "cell_type": "code",
   "execution_count": 22,
   "source": [
    "data_filtered['change_bin'] = data_filtered.change == 'Ch'"
   ],
   "outputs": [],
   "metadata": {}
  },
  {
   "cell_type": "code",
   "execution_count": 23,
   "source": [
    "data_filtered['diabetesMed_bin'] = data_filtered.diabetesMed == 'Yes'"
   ],
   "outputs": [],
   "metadata": {}
  },
  {
   "cell_type": "code",
   "execution_count": 24,
   "source": [
    "data_filtered['A1Cresult_bin'] = data_filtered['A1Cresult'] != 'None'\r\n",
    "data_filtered['num_procedures_bin'] = data_filtered['num_procedures'] != 0"
   ],
   "outputs": [],
   "metadata": {}
  },
  {
   "cell_type": "markdown",
   "source": [
    "Now that we have all that we need, let's extract the most useful columns for the model"
   ],
   "metadata": {}
  },
  {
   "cell_type": "code",
   "execution_count": 25,
   "source": [
    "data_filtered.columns"
   ],
   "outputs": [
    {
     "output_type": "execute_result",
     "data": {
      "text/plain": [
       "Index(['race', 'gender', 'age', 'admission_type_id',\n",
       "       'discharge_disposition_id', 'admission_source_id', 'time_in_hospital',\n",
       "       'medical_specialty', 'num_lab_procedures', 'num_procedures',\n",
       "       'num_medications', 'number_outpatient', 'number_emergency',\n",
       "       'number_inpatient', 'diag_1', 'diag_2', 'diag_3', 'number_diagnoses',\n",
       "       'max_glu_serum', 'A1Cresult', 'metformin', 'repaglinide', 'nateglinide',\n",
       "       'chlorpropamide', 'glimepiride', 'acetohexamide', 'glipizide',\n",
       "       'glyburide', 'tolbutamide', 'pioglitazone', 'rosiglitazone', 'acarbose',\n",
       "       'miglitol', 'troglitazone', 'tolazamide', 'examide', 'citoglipton',\n",
       "       'insulin', 'glyburide-metformin', 'glipizide-metformin',\n",
       "       'glimepiride-pioglitazone', 'metformin-rosiglitazone',\n",
       "       'metformin-pioglitazone', 'change', 'diabetesMed', 'readmitted',\n",
       "       'discharged_home', 'TypeCondition', 'metformin_bin', 'repaglinide_bin',\n",
       "       'nateglinide_bin', 'chlorpropamide_bin', 'glimepiride_bin',\n",
       "       'acetohexamide_bin', 'glipizide_bin', 'glyburide_bin',\n",
       "       'tolbutamide_bin', 'pioglitazone_bin', 'rosiglitazone_bin',\n",
       "       'acarbose_bin', 'miglitol_bin', 'troglitazone_bin', 'tolazamide_bin',\n",
       "       'examide_bin', 'citoglipton_bin', 'insulin_bin',\n",
       "       'glyburide-metformin_bin', 'glipizide-metformin_bin',\n",
       "       'glimepiride-pioglitazone_bin', 'metformin-rosiglitazone_bin',\n",
       "       'metformin-pioglitazone_bin', 'any_medicine', 'change_bin',\n",
       "       'diabetesMed_bin', 'A1Cresult_bin', 'num_procedures_bin'],\n",
       "      dtype='object')"
      ]
     },
     "metadata": {},
     "execution_count": 25
    }
   ],
   "metadata": {}
  },
  {
   "cell_type": "code",
   "execution_count": 26,
   "source": [
    "diabetic_data = data_filtered.copy()\r\n",
    "diabetic_data = diabetic_data[['discharged_home','race','gender','age','time_in_hospital','change_bin','diabetesMed_bin','TypeCondition','A1Cresult_bin','readmitted']]"
   ],
   "outputs": [],
   "metadata": {}
  },
  {
   "cell_type": "code",
   "execution_count": 27,
   "source": [
    "diabetic_data.head()"
   ],
   "outputs": [
    {
     "output_type": "execute_result",
     "data": {
      "text/plain": [
       "    discharged_home       race  gender       age  time_in_hospital  \\\n",
       "9             False  Caucasian  Female  [90-100)                12   \n",
       "12            False  Caucasian  Female   [40-50)                 7   \n",
       "13            False  Caucasian    Male   [80-90)                10   \n",
       "17             True  Caucasian  Female   [50-60)                 3   \n",
       "26            False  Caucasian    Male   [80-90)                 6   \n",
       "\n",
       "    change_bin  diabetesMed_bin TypeCondition  A1Cresult_bin readmitted  \n",
       "9         True             True   Circulatory          False         NO  \n",
       "12        True             True   Circulatory          False        <30  \n",
       "13       False             True   Circulatory          False         NO  \n",
       "17       False             True         Other          False         NO  \n",
       "26        True             True   Circulatory           True         NO  "
      ],
      "text/html": [
       "<div>\n",
       "<style scoped>\n",
       "    .dataframe tbody tr th:only-of-type {\n",
       "        vertical-align: middle;\n",
       "    }\n",
       "\n",
       "    .dataframe tbody tr th {\n",
       "        vertical-align: top;\n",
       "    }\n",
       "\n",
       "    .dataframe thead th {\n",
       "        text-align: right;\n",
       "    }\n",
       "</style>\n",
       "<table border=\"1\" class=\"dataframe\">\n",
       "  <thead>\n",
       "    <tr style=\"text-align: right;\">\n",
       "      <th></th>\n",
       "      <th>discharged_home</th>\n",
       "      <th>race</th>\n",
       "      <th>gender</th>\n",
       "      <th>age</th>\n",
       "      <th>time_in_hospital</th>\n",
       "      <th>change_bin</th>\n",
       "      <th>diabetesMed_bin</th>\n",
       "      <th>TypeCondition</th>\n",
       "      <th>A1Cresult_bin</th>\n",
       "      <th>readmitted</th>\n",
       "    </tr>\n",
       "  </thead>\n",
       "  <tbody>\n",
       "    <tr>\n",
       "      <th>9</th>\n",
       "      <td>False</td>\n",
       "      <td>Caucasian</td>\n",
       "      <td>Female</td>\n",
       "      <td>[90-100)</td>\n",
       "      <td>12</td>\n",
       "      <td>True</td>\n",
       "      <td>True</td>\n",
       "      <td>Circulatory</td>\n",
       "      <td>False</td>\n",
       "      <td>NO</td>\n",
       "    </tr>\n",
       "    <tr>\n",
       "      <th>12</th>\n",
       "      <td>False</td>\n",
       "      <td>Caucasian</td>\n",
       "      <td>Female</td>\n",
       "      <td>[40-50)</td>\n",
       "      <td>7</td>\n",
       "      <td>True</td>\n",
       "      <td>True</td>\n",
       "      <td>Circulatory</td>\n",
       "      <td>False</td>\n",
       "      <td>&lt;30</td>\n",
       "    </tr>\n",
       "    <tr>\n",
       "      <th>13</th>\n",
       "      <td>False</td>\n",
       "      <td>Caucasian</td>\n",
       "      <td>Male</td>\n",
       "      <td>[80-90)</td>\n",
       "      <td>10</td>\n",
       "      <td>False</td>\n",
       "      <td>True</td>\n",
       "      <td>Circulatory</td>\n",
       "      <td>False</td>\n",
       "      <td>NO</td>\n",
       "    </tr>\n",
       "    <tr>\n",
       "      <th>17</th>\n",
       "      <td>True</td>\n",
       "      <td>Caucasian</td>\n",
       "      <td>Female</td>\n",
       "      <td>[50-60)</td>\n",
       "      <td>3</td>\n",
       "      <td>False</td>\n",
       "      <td>True</td>\n",
       "      <td>Other</td>\n",
       "      <td>False</td>\n",
       "      <td>NO</td>\n",
       "    </tr>\n",
       "    <tr>\n",
       "      <th>26</th>\n",
       "      <td>False</td>\n",
       "      <td>Caucasian</td>\n",
       "      <td>Male</td>\n",
       "      <td>[80-90)</td>\n",
       "      <td>6</td>\n",
       "      <td>True</td>\n",
       "      <td>True</td>\n",
       "      <td>Circulatory</td>\n",
       "      <td>True</td>\n",
       "      <td>NO</td>\n",
       "    </tr>\n",
       "  </tbody>\n",
       "</table>\n",
       "</div>"
      ]
     },
     "metadata": {},
     "execution_count": 27
    }
   ],
   "metadata": {}
  },
  {
   "cell_type": "code",
   "execution_count": 28,
   "source": [
    "diabetic_data['race'] = diabetic_data['race'].astype('category')\r\n",
    "diabetic_data['gender'] = diabetic_data['gender'].astype('category')\r\n",
    "diabetic_data['TypeCondition'] = diabetic_data['TypeCondition'].astype('category')"
   ],
   "outputs": [],
   "metadata": {}
  },
  {
   "cell_type": "markdown",
   "source": [
    "Since python clustering depends on the data to be numbers. We will transform the data into numbers"
   ],
   "metadata": {}
  },
  {
   "cell_type": "markdown",
   "source": [
    "### Race\r\n",
    "1- Caucasian\r\n",
    "\r\n",
    "2- AfricanAmerican\r\n",
    "\r\n",
    "3- Hispanic\r\n",
    "\r\n",
    "4- Asian\r\n",
    "\r\n",
    "5- Other"
   ],
   "metadata": {}
  },
  {
   "cell_type": "code",
   "execution_count": 29,
   "source": [
    "race_dict = {\r\n",
    "    'Caucasian':1,\r\n",
    "    'AfricanAmerican':2,\r\n",
    "    'Hispanic':3,\r\n",
    "    'Asian':4,\r\n",
    "    'Other':5\r\n",
    "}\r\n",
    "diabetic_data['num_race'] = diabetic_data['race'].map(race_dict)\r\n",
    "diabetic_data['num_race'].drop_duplicates()"
   ],
   "outputs": [
    {
     "output_type": "execute_result",
     "data": {
      "text/plain": [
       "9      1\n",
       "98     5\n",
       "523    3\n",
       "804    4\n",
       "897    2\n",
       "Name: num_race, dtype: category\n",
       "Categories (5, int64): [2, 4, 1, 3, 5]"
      ]
     },
     "metadata": {},
     "execution_count": 29
    }
   ],
   "metadata": {}
  },
  {
   "cell_type": "markdown",
   "source": [
    "### Gender\r\n",
    "\r\n",
    "1- Female\r\n",
    "\r\n",
    "2- Male"
   ],
   "metadata": {}
  },
  {
   "cell_type": "code",
   "execution_count": 30,
   "source": [
    "gender_dict = {\r\n",
    "    'Female':1,\r\n",
    "    'Male':2\r\n",
    "}\r\n",
    "diabetic_data['num_gender'] = diabetic_data['gender'].map(gender_dict)\r\n",
    "diabetic_data['num_gender'].drop_duplicates()"
   ],
   "outputs": [
    {
     "output_type": "execute_result",
     "data": {
      "text/plain": [
       "9     1\n",
       "13    2\n",
       "Name: num_gender, dtype: category\n",
       "Categories (2, int64): [1, 2]"
      ]
     },
     "metadata": {},
     "execution_count": 30
    }
   ],
   "metadata": {}
  },
  {
   "cell_type": "markdown",
   "source": [
    "### Type of condition\r\n",
    "1- Circulatory\r\n",
    "\r\n",
    "2- Diabetes\r\n",
    "\r\n",
    "3- Respiratory\r\n",
    "\r\n",
    "4- Digestive\r\n",
    "\r\n",
    "5- Injury\r\n",
    "\r\n",
    "6- Musculoskeletal\r\n",
    "\r\n",
    "7- Genitourinary\r\n",
    "\r\n",
    "8- Neoplasm\r\n",
    "\r\n",
    "9- Other"
   ],
   "metadata": {}
  },
  {
   "cell_type": "code",
   "execution_count": 31,
   "source": [
    "condition_dict = {\r\n",
    "    'Circulatory':1,\r\n",
    "    'Diabetes':2,\r\n",
    "    'Respiratory':3,\r\n",
    "    'Digestive':4,\r\n",
    "    'Injury':5,\r\n",
    "    'Musculoskeletal':6,\r\n",
    "    'Genitourinary':7,\r\n",
    "    'Neoplasm':8,\r\n",
    "    'Other':9\r\n",
    "}\r\n",
    "diabetic_data['num_TypeCondition'] = diabetic_data['TypeCondition'].map(condition_dict)\r\n",
    "diabetic_data['num_TypeCondition'].drop_duplicates()"
   ],
   "outputs": [
    {
     "output_type": "execute_result",
     "data": {
      "text/plain": [
       "9      1\n",
       "17     9\n",
       "27     5\n",
       "73     8\n",
       "77     6\n",
       "98     7\n",
       "115    4\n",
       "152    2\n",
       "181    3\n",
       "Name: num_TypeCondition, dtype: category\n",
       "Categories (9, int64): [1, 2, 4, 7, ..., 6, 8, 9, 3]"
      ]
     },
     "metadata": {},
     "execution_count": 31
    }
   ],
   "metadata": {}
  },
  {
   "cell_type": "markdown",
   "source": [
    "### Age\r\n",
    "1- [0-10)\r\n",
    "\r\n",
    "2- [10-20)\r\n",
    "\r\n",
    "3- [20-30)\r\n",
    "\r\n",
    "4- [30-40)\r\n",
    "\r\n",
    "5- [40-50)\r\n",
    "\r\n",
    "6- [50-60)\r\n",
    "\r\n",
    "7- [60-70)\r\n",
    "\r\n",
    "8- [70-80)\r\n",
    "\r\n",
    "9- [80-90)\r\n",
    "\r\n",
    "10- [90-100)"
   ],
   "metadata": {}
  },
  {
   "cell_type": "code",
   "execution_count": 32,
   "source": [
    "age_dict = {\r\n",
    "    '[0-10)':1,\r\n",
    "    '[10-20)':2,\r\n",
    "    '[20-30)':3,\r\n",
    "    '[30-40)':4,\r\n",
    "    '[40-50)':5,\r\n",
    "    '[50-60)':6,\r\n",
    "    '[60-70)':7,\r\n",
    "    '[70-80)':8,\r\n",
    "    '[80-90)':9,\r\n",
    "    '[90-100)':10\r\n",
    "}\r\n",
    "diabetic_data['num_age'] = diabetic_data['age'].map(age_dict)\r\n",
    "diabetic_data['num_age'].drop_duplicates()"
   ],
   "outputs": [
    {
     "output_type": "execute_result",
     "data": {
      "text/plain": [
       "9       10\n",
       "12       5\n",
       "13       9\n",
       "17       6\n",
       "32       8\n",
       "35       7\n",
       "115      4\n",
       "1037     3\n",
       "1046     2\n",
       "1140     1\n",
       "Name: num_age, dtype: int64"
      ]
     },
     "metadata": {},
     "execution_count": 32
    }
   ],
   "metadata": {}
  },
  {
   "cell_type": "code",
   "execution_count": 33,
   "source": [
    "diabetic_data.readmitted.drop_duplicates()"
   ],
   "outputs": [
    {
     "output_type": "execute_result",
     "data": {
      "text/plain": [
       "9      NO\n",
       "12    <30\n",
       "27    >30\n",
       "Name: readmitted, dtype: object"
      ]
     },
     "metadata": {},
     "execution_count": 33
    }
   ],
   "metadata": {}
  },
  {
   "cell_type": "code",
   "execution_count": 34,
   "source": [
    "readmitted_dict = {\r\n",
    "    'NO':0,\r\n",
    "    '<30':1,\r\n",
    "    '>30':2\r\n",
    "}\r\n",
    "diabetic_data['num_readmitted'] = diabetic_data['readmitted'].map(readmitted_dict)\r\n",
    "diabetic_data['num_readmitted'].drop_duplicates()"
   ],
   "outputs": [
    {
     "output_type": "execute_result",
     "data": {
      "text/plain": [
       "9     0\n",
       "12    1\n",
       "27    2\n",
       "Name: num_readmitted, dtype: int64"
      ]
     },
     "metadata": {},
     "execution_count": 34
    }
   ],
   "metadata": {}
  },
  {
   "cell_type": "code",
   "execution_count": 35,
   "source": [
    "diabetic_data.to_csv('./data/diabetic_data_processed.csv')"
   ],
   "outputs": [],
   "metadata": {}
  },
  {
   "cell_type": "markdown",
   "source": [
    "## Clustering"
   ],
   "metadata": {}
  },
  {
   "cell_type": "markdown",
   "source": [
    "Let's use the PCA dimensionality reduction in order to visualize the clusters in 2D and 3D if there is more complications"
   ],
   "metadata": {}
  },
  {
   "cell_type": "code",
   "execution_count": 36,
   "source": [
    "from sklearn.decomposition import PCA\r\n",
    "from sklearn.discriminant_analysis import LinearDiscriminantAnalysis\r\n",
    "from sklearn.ensemble import RandomForestClassifier\r\n",
    "from sklearn.metrics import roc_auc_score\r\n",
    "from sklearn.metrics import roc_curve\r\n",
    "from sklearn.metrics import confusion_matrix\r\n",
    "from sklearn.model_selection import train_test_split"
   ],
   "outputs": [],
   "metadata": {}
  },
  {
   "cell_type": "code",
   "execution_count": 37,
   "source": [
    "X_cols = ['discharged_home','num_race','num_gender','num_age','time_in_hospital','change_bin','diabetesMed_bin','num_TypeCondition','A1Cresult_bin']\r\n",
    "y_cols = 'readmitted'\r\n",
    "lda = LinearDiscriminantAnalysis(n_components=2)\r\n",
    "X_r2 = lda.fit(diabetic_data[X_cols], diabetic_data.num_readmitted.values).transform(diabetic_data[X_cols])\r\n",
    "y_diabetic = diabetic_data.num_readmitted.values"
   ],
   "outputs": [
    {
     "output_type": "stream",
     "name": "stderr",
     "text": [
      "Arrays of bytes/strings is being converted to decimal numbers if dtype='numeric'. This behavior is deprecated in 0.24 and will be removed in 1.1 (renaming of 0.26). Please convert your data to numeric values explicitly instead.\n"
     ]
    }
   ],
   "metadata": {}
  },
  {
   "cell_type": "code",
   "execution_count": null,
   "source": [
    "plt.figure()\r\n",
    "colors = ['navy', 'turquoise', 'darkorange']\r\n",
    "for color, i, target_name in zip(colors, [0,1,2], target_names_diabetic):\r\n",
    "    plt.scatter(X_r2[y_diabetic == i, 0], X_r2[y_diabetic == i, 1], alpha=.2, color=color,\r\n",
    "                label=target_name)\r\n",
    "plt.legend(loc='best', shadow=False, scatterpoints=1)\r\n",
    "plt.title('LDA of diabetic dataset')\r\n",
    "\r\n",
    "plt.show()"
   ],
   "outputs": [],
   "metadata": {}
  },
  {
   "cell_type": "markdown",
   "source": [
    "It looks like there is no visible pattern. Let's try to create a model for prediction and use SHAP for insights and useful things. Because for different predictions, different factors have a key role, we are going togo into the scenario 'us' vs 'them'. Thus, we're going to generate different models for all the categories. First let's generate the binarized categories"
   ],
   "metadata": {}
  },
  {
   "cell_type": "code",
   "execution_count": 38,
   "source": [
    "diabetic_data['NoReadmission'] = diabetic_data.readmitted == 'NO'\r\n",
    "diabetic_data['ReturnedBefore30'] = diabetic_data.readmitted == '<30'\r\n",
    "diabetic_data['ReturnedAfter30'] = diabetic_data.readmitted == '>30'"
   ],
   "outputs": [],
   "metadata": {}
  },
  {
   "cell_type": "code",
   "execution_count": 39,
   "source": [
    "diabetic_data.to_csv('./data/diabetic_data_processed_bin.csv')"
   ],
   "outputs": [],
   "metadata": {}
  },
  {
   "cell_type": "code",
   "execution_count": 40,
   "source": [
    "def evaluate_model(classifier, X, y, train_size=0.8, total_samples=100, smote=False, best_model=False):\r\n",
    "    \"\"\"\r\n",
    "    if smote is True:\r\n",
    "        oversample = SMOTE()\r\n",
    "        X, y = oversample.fit_resample(X, y)\r\n",
    "    \"\"\"\r\n",
    "    oversample = SMOTE()\r\n",
    "    #scaler.fit(X)\r\n",
    "    X_scaled = X#scaler.transform(X)\r\n",
    "    auc_vals = np.array([])\r\n",
    "    acc_vals = np.array([])\r\n",
    "    specificity_vals = np.array([])\r\n",
    "    sensitivity_vals = np.array([])\r\n",
    "    ppv_vals = np.array([])\r\n",
    "    model_list = []\r\n",
    "    proba_vals = []\r\n",
    "    test_vals = []\r\n",
    "    fpr_vals = []\r\n",
    "    tpr_vals = []\r\n",
    "    for i in range(1,total_samples):\r\n",
    "        X_train, X_test, y_train, y_test = train_test_split(X_scaled, y, train_size=train_size)\r\n",
    "        if smote is True:\r\n",
    "            X_train, y_train = oversample.fit_resample(X_train, y_train)\r\n",
    "        clf = classifier\r\n",
    "        model = clf.fit(X_train,y_train)\r\n",
    "        model_list.append(model)\r\n",
    "        y_hat = model.predict_proba(X_test)\r\n",
    "        # print(y_hat.flatten())\r\n",
    "        # print(y_test)\r\n",
    "        # print(y_hat.shape)\r\n",
    "        # print(y_test.shape)\r\n",
    "        proba_vals.append(y_hat[:,1])\r\n",
    "        test_vals.append(y_test)\r\n",
    "        if np.sum(np.round(y_hat[:,1])) == 0:\r\n",
    "            continue\r\n",
    "        fpr, tpr, thresholds = metrics.roc_curve(y_test, y_hat[:,1])\r\n",
    "        tn, fp, fn, tp = confusion_matrix(y_test,np.round(y_hat[:,1])).ravel()\r\n",
    "        specificity = tn / (tn+fp)\r\n",
    "        sensitivity = tp / (tp+fn)\r\n",
    "        ppv = tp/(tp+fp)\r\n",
    "        auc_vals = np.append(metrics.auc(fpr, tpr),auc_vals)\r\n",
    "        acc_vals = np.append(accuracy_score(y_test, np.round(y_hat[:,1])),acc_vals)\r\n",
    "        specificity_vals = np.append(specificity,specificity_vals)\r\n",
    "        sensitivity_vals = np.append(sensitivity,sensitivity_vals)\r\n",
    "        ppv_vals = np.append(ppv,ppv_vals)\r\n",
    "        fpr_vals.append(fpr)\r\n",
    "        tpr_vals.append(tpr)\r\n",
    "        pass\r\n",
    "    print('AUC: {:.3f} +- {:.3f}'.format(np.mean(auc_vals), np.std(auc_vals)))\r\n",
    "    print('Sensitivity: {:.3f} +- {:.3f}'.format(np.mean(sensitivity_vals), np.std(sensitivity_vals)))\r\n",
    "    print('Specificity: {:.3f} +- {:.3f}'.format(np.mean(specificity_vals), np.std(specificity_vals)))\r\n",
    "    print('Positive Predictive Values: {:.3f} +- {:.3f}'.format(np.mean(ppv_vals), np.std(ppv_vals)))\r\n",
    "    print('Accuracy: {:.3f} +- {:.3f}'.format(np.mean(acc_vals), np.std(acc_vals)))\r\n",
    "    if best_model is True:\r\n",
    "        best_vals = ppv_vals*1.25 + sensitivity_vals\r\n",
    "        max_ppv_index = np.argmax(best_vals)\r\n",
    "        print(max_ppv_index)\r\n",
    "        print('The highest ppv model has the following:')\r\n",
    "        print('AUC: {:.3f}'.format(auc_vals[max_ppv_index]))\r\n",
    "        print('Sensitivity: {:.3f}'.format(sensitivity_vals[max_ppv_index]))\r\n",
    "        print('Specificity: {:.3f}'.format(specificity_vals[max_ppv_index]))\r\n",
    "        print('Positive Predictive Values: {:.3f}'.format(ppv_vals[max_ppv_index]))\r\n",
    "        print('Accuracy: {:.3f}'.format(acc_vals[max_ppv_index]))\r\n",
    "        \r\n",
    "        return model_list[max_ppv_index],proba_vals,test_vals,fpr_vals[max_ppv_index],tpr_vals[max_ppv_index]\r\n",
    "    pass"
   ],
   "outputs": [],
   "metadata": {}
  },
  {
   "cell_type": "code",
   "execution_count": 41,
   "source": [
    "diabetic_data.columns"
   ],
   "outputs": [
    {
     "output_type": "execute_result",
     "data": {
      "text/plain": [
       "Index(['discharged_home', 'race', 'gender', 'age', 'time_in_hospital',\n",
       "       'change_bin', 'diabetesMed_bin', 'TypeCondition', 'A1Cresult_bin',\n",
       "       'readmitted', 'num_race', 'num_gender', 'num_TypeCondition', 'num_age',\n",
       "       'num_readmitted', 'NoReadmission', 'ReturnedBefore30',\n",
       "       'ReturnedAfter30'],\n",
       "      dtype='object')"
      ]
     },
     "metadata": {},
     "execution_count": 41
    }
   ],
   "metadata": {}
  },
  {
   "cell_type": "code",
   "execution_count": 42,
   "source": [
    "diabetic_unfold = diabetic_data.copy()\r\n",
    "diabetic_unfold['race_caucasian'] = diabetic_data.race == 'Caucasian'\r\n",
    "diabetic_unfold['race_other'] = diabetic_data.race == 'Other'\r\n",
    "diabetic_unfold['race_hispanic'] = diabetic_data.race == 'Hispanic'\r\n",
    "diabetic_unfold['race_asian'] = diabetic_data.race == 'Asian'\r\n",
    "diabetic_unfold['race_african'] = diabetic_data.race == 'AfricanAmerican'\r\n",
    "diabetic_unfold['gender_female'] = diabetic_data.gender == 'Female'\r\n",
    "diabetic_unfold['gender_male'] = diabetic_data.gender == 'Male'\r\n",
    "diabetic_unfold['age_0_10'] = diabetic_data.age == '[0-10)'\r\n",
    "diabetic_unfold['age_10_20'] = diabetic_data.age == '[10-20)'\r\n",
    "diabetic_unfold['age_20_30'] = diabetic_data.age == '[20-30)'\r\n",
    "diabetic_unfold['age_30_40'] = diabetic_data.age == '[30-40)'\r\n",
    "diabetic_unfold['age_40_50'] = diabetic_data.age == '[40-50)'\r\n",
    "diabetic_unfold['age_50_60'] = diabetic_data.age == '[50-60)'\r\n",
    "diabetic_unfold['age_60_70'] = diabetic_data.age == '[60-70)'\r\n",
    "diabetic_unfold['age_70_80'] = diabetic_data.age == '[70-80)'\r\n",
    "diabetic_unfold['age_80_90'] = diabetic_data.age == '[80-90)'\r\n",
    "diabetic_unfold['age_90_100'] = diabetic_data.age == '[90-100)'\r\n",
    "diabetic_unfold['condition_circulatory'] = diabetic_data.TypeCondition == 'Circulatory'\r\n",
    "diabetic_unfold['condition_other'] = diabetic_data.TypeCondition == 'Other'\r\n",
    "diabetic_unfold['condition_injury'] = diabetic_data.TypeCondition == 'Injury'\r\n",
    "diabetic_unfold['condition_neoplasm'] = diabetic_data.TypeCondition == 'Neoplasm'\r\n",
    "diabetic_unfold['condition_muscleskeletal'] = diabetic_data.TypeCondition == 'Musculoskeletal'\r\n",
    "diabetic_unfold['condition_genitourinary'] = diabetic_data.TypeCondition == 'Genitourinary'\r\n",
    "diabetic_unfold['condition_digestive'] = diabetic_data.TypeCondition == 'Digestive'\r\n",
    "diabetic_unfold['condition_diabetes'] = diabetic_data.TypeCondition == 'Diabetes'\r\n",
    "diabetic_unfold['condition_respiratory'] = diabetic_data.TypeCondition == 'Respiratory'"
   ],
   "outputs": [],
   "metadata": {}
  },
  {
   "cell_type": "code",
   "execution_count": 50,
   "source": [
    "# X_cols = ['discharged_home','race_caucasian','race_other','race_hispanic','race_asian','race_african','gender_female','gender_male',\r\n",
    "# 'age_0_10','age_10_20','age_20_30','age_30_40','age_40_50','age_50_60','age_60_70','age_70_80','age_80_90','age_90_100','condition_circulatory',\r\n",
    "# 'condition_other','condition_injury','condition_neoplasm','condition_muscleskeletal','condition_genitourinary','condition_digestive','condition_diabetes',\r\n",
    "# 'condition_respiratory','change_bin', 'diabetesMed_bin','A1Cresult_bin']"
   ],
   "outputs": [],
   "metadata": {}
  },
  {
   "cell_type": "code",
   "execution_count": 69,
   "source": [
    "X_cols = ['discharged_home','race_caucasian','race_other','race_hispanic','race_asian','race_african','gender_female','gender_male',\r\n",
    "'age_0_10','age_10_20','age_20_30','age_30_40','age_40_50','age_50_60','age_60_70','age_70_80','age_80_90','age_90_100','condition_circulatory',\r\n",
    "'condition_other','condition_injury','condition_neoplasm','condition_muscleskeletal','condition_genitourinary','condition_digestive','condition_diabetes',\r\n",
    "'condition_respiratory','change_bin', 'diabetesMed_bin','A1Cresult_bin']"
   ],
   "outputs": [],
   "metadata": {}
  },
  {
   "cell_type": "code",
   "execution_count": 70,
   "source": [
    "X, y = diabetic_unfold[X_cols].values, diabetic_unfold['NoReadmission'].values\r\n",
    "#scaler_test = StandardScaler(with_mean=False, with_std=False)\r\n",
    "clf_selected = RandomForestClassifier(bootstrap=True, criterion=\"entropy\",max_features=0.1,min_samples_leaf=0.01,\r\n",
    "                            min_samples_split=0.01,n_estimators=400,oob_score=True)\r\n",
    "X_train, X_test, y_train, y_test = train_test_split(X, y, train_size=0.7)\r\n",
    "model = clf_selected.fit(X_train,y_train)\r\n",
    "#clf_cardiac, proba_cardiac, y_test_cardiac, fpr_car, tpr_car = evaluate_model(clf_selected,X, y, total_samples=2, train_size=0.7, smote=True,best_model=True)"
   ],
   "outputs": [],
   "metadata": {}
  },
  {
   "cell_type": "code",
   "execution_count": 71,
   "source": [
    "y_hat = model.predict_proba(X_test)"
   ],
   "outputs": [],
   "metadata": {}
  },
  {
   "cell_type": "code",
   "execution_count": 72,
   "source": [
    "fpr, tpr, thresholds = metrics.roc_curve(y_test, y_hat[:,1])\r\n",
    "metrics.auc(fpr, tpr)"
   ],
   "outputs": [
    {
     "output_type": "execute_result",
     "data": {
      "text/plain": [
       "0.5690131215004093"
      ]
     },
     "metadata": {},
     "execution_count": 72
    }
   ],
   "metadata": {}
  },
  {
   "cell_type": "code",
   "execution_count": null,
   "source": [],
   "outputs": [],
   "metadata": {}
  },
  {
   "cell_type": "code",
   "execution_count": 45,
   "source": [
    "X, y = diabetic_unfold[X_cols].values, diabetic_unfold['ReturnedBefore30'].values\r\n",
    "#scaler_test = StandardScaler(with_mean=False, with_std=False)\r\n",
    "clf_selected = RandomForestClassifier(bootstrap=True,  criterion=\"entropy\",max_features=0.1,min_samples_leaf=0.01,\r\n",
    "                            min_samples_split= 0.01,n_estimators=50,oob_score=False)\r\n",
    "X_train, X_test, y_train, y_test = train_test_split(X, y, train_size=0.7)\r\n",
    "clf_cardiac, proba_cardiac, y_test_cardiac, fpr_car, tpr_car = evaluate_model(clf_selected,X, y, total_samples=1, train_size=0.7, smote=False,best_model=True)"
   ],
   "outputs": [
    {
     "output_type": "stream",
     "name": "stdout",
     "text": [
      "AUC: nan +- nan\n",
      "Sensitivity: nan +- nan\n",
      "Specificity: nan +- nan\n",
      "Positive Predictive Values: nan +- nan\n",
      "Accuracy: nan +- nan\n"
     ]
    },
    {
     "output_type": "stream",
     "name": "stderr",
     "text": [
      "Mean of empty slice.\n",
      "invalid value encountered in double_scalars\n",
      "Degrees of freedom <= 0 for slice\n",
      "invalid value encountered in true_divide\n",
      "invalid value encountered in double_scalars\n"
     ]
    },
    {
     "output_type": "error",
     "ename": "ValueError",
     "evalue": "attempt to get argmax of an empty sequence",
     "traceback": [
      "\u001b[1;31m---------------------------------------------------------------------------\u001b[0m",
      "\u001b[1;31mValueError\u001b[0m                                Traceback (most recent call last)",
      "\u001b[1;32m<ipython-input-45-a2851eff22d6>\u001b[0m in \u001b[0;36m<module>\u001b[1;34m\u001b[0m\n\u001b[0;32m      4\u001b[0m                             min_samples_split= 0.01,n_estimators=50,oob_score=False)\n\u001b[0;32m      5\u001b[0m \u001b[0mX_train\u001b[0m\u001b[1;33m,\u001b[0m \u001b[0mX_test\u001b[0m\u001b[1;33m,\u001b[0m \u001b[0my_train\u001b[0m\u001b[1;33m,\u001b[0m \u001b[0my_test\u001b[0m \u001b[1;33m=\u001b[0m \u001b[0mtrain_test_split\u001b[0m\u001b[1;33m(\u001b[0m\u001b[0mX\u001b[0m\u001b[1;33m,\u001b[0m \u001b[0my\u001b[0m\u001b[1;33m,\u001b[0m \u001b[0mtrain_size\u001b[0m\u001b[1;33m=\u001b[0m\u001b[1;36m0.7\u001b[0m\u001b[1;33m)\u001b[0m\u001b[1;33m\u001b[0m\u001b[0m\n\u001b[1;32m----> 6\u001b[1;33m \u001b[0mclf_cardiac\u001b[0m\u001b[1;33m,\u001b[0m \u001b[0mproba_cardiac\u001b[0m\u001b[1;33m,\u001b[0m \u001b[0my_test_cardiac\u001b[0m\u001b[1;33m,\u001b[0m \u001b[0mfpr_car\u001b[0m\u001b[1;33m,\u001b[0m \u001b[0mtpr_car\u001b[0m \u001b[1;33m=\u001b[0m \u001b[0mevaluate_model\u001b[0m\u001b[1;33m(\u001b[0m\u001b[0mclf_selected\u001b[0m\u001b[1;33m,\u001b[0m\u001b[0mX\u001b[0m\u001b[1;33m,\u001b[0m \u001b[0my\u001b[0m\u001b[1;33m,\u001b[0m \u001b[0mtotal_samples\u001b[0m\u001b[1;33m=\u001b[0m\u001b[1;36m1\u001b[0m\u001b[1;33m,\u001b[0m \u001b[0mtrain_size\u001b[0m\u001b[1;33m=\u001b[0m\u001b[1;36m0.7\u001b[0m\u001b[1;33m,\u001b[0m \u001b[0msmote\u001b[0m\u001b[1;33m=\u001b[0m\u001b[1;32mFalse\u001b[0m\u001b[1;33m,\u001b[0m\u001b[0mbest_model\u001b[0m\u001b[1;33m=\u001b[0m\u001b[1;32mTrue\u001b[0m\u001b[1;33m)\u001b[0m\u001b[1;33m\u001b[0m\u001b[0m\n\u001b[0m",
      "\u001b[1;32m<ipython-input-40-5af3a38ec681>\u001b[0m in \u001b[0;36mevaluate_model\u001b[1;34m(classifier, X, y, train_size, total_samples, smote, best_model)\u001b[0m\n\u001b[0;32m     54\u001b[0m     \u001b[1;32mif\u001b[0m \u001b[0mbest_model\u001b[0m \u001b[1;32mis\u001b[0m \u001b[1;32mTrue\u001b[0m\u001b[1;33m:\u001b[0m\u001b[1;33m\u001b[0m\u001b[0m\n\u001b[0;32m     55\u001b[0m         \u001b[0mbest_vals\u001b[0m \u001b[1;33m=\u001b[0m \u001b[0mppv_vals\u001b[0m\u001b[1;33m*\u001b[0m\u001b[1;36m1.25\u001b[0m \u001b[1;33m+\u001b[0m \u001b[0msensitivity_vals\u001b[0m\u001b[1;33m\u001b[0m\u001b[0m\n\u001b[1;32m---> 56\u001b[1;33m         \u001b[0mmax_ppv_index\u001b[0m \u001b[1;33m=\u001b[0m \u001b[0mnp\u001b[0m\u001b[1;33m.\u001b[0m\u001b[0margmax\u001b[0m\u001b[1;33m(\u001b[0m\u001b[0mbest_vals\u001b[0m\u001b[1;33m)\u001b[0m\u001b[1;33m\u001b[0m\u001b[0m\n\u001b[0m\u001b[0;32m     57\u001b[0m         \u001b[0mprint\u001b[0m\u001b[1;33m(\u001b[0m\u001b[0mmax_ppv_index\u001b[0m\u001b[1;33m)\u001b[0m\u001b[1;33m\u001b[0m\u001b[0m\n\u001b[0;32m     58\u001b[0m         \u001b[0mprint\u001b[0m\u001b[1;33m(\u001b[0m\u001b[1;34m'The highest ppv model has the following:'\u001b[0m\u001b[1;33m)\u001b[0m\u001b[1;33m\u001b[0m\u001b[0m\n",
      "\u001b[1;32m<__array_function__ internals>\u001b[0m in \u001b[0;36margmax\u001b[1;34m(*args, **kwargs)\u001b[0m\n",
      "\u001b[1;32md:\\Globant\\Task3\\.venv\\lib\\site-packages\\numpy\\core\\fromnumeric.py\u001b[0m in \u001b[0;36margmax\u001b[1;34m(a, axis, out)\u001b[0m\n\u001b[0;32m   1186\u001b[0m \u001b[1;33m\u001b[0m\u001b[0m\n\u001b[0;32m   1187\u001b[0m     \"\"\"\n\u001b[1;32m-> 1188\u001b[1;33m     \u001b[1;32mreturn\u001b[0m \u001b[0m_wrapfunc\u001b[0m\u001b[1;33m(\u001b[0m\u001b[0ma\u001b[0m\u001b[1;33m,\u001b[0m \u001b[1;34m'argmax'\u001b[0m\u001b[1;33m,\u001b[0m \u001b[0maxis\u001b[0m\u001b[1;33m=\u001b[0m\u001b[0maxis\u001b[0m\u001b[1;33m,\u001b[0m \u001b[0mout\u001b[0m\u001b[1;33m=\u001b[0m\u001b[0mout\u001b[0m\u001b[1;33m)\u001b[0m\u001b[1;33m\u001b[0m\u001b[0m\n\u001b[0m\u001b[0;32m   1189\u001b[0m \u001b[1;33m\u001b[0m\u001b[0m\n\u001b[0;32m   1190\u001b[0m \u001b[1;33m\u001b[0m\u001b[0m\n",
      "\u001b[1;32md:\\Globant\\Task3\\.venv\\lib\\site-packages\\numpy\\core\\fromnumeric.py\u001b[0m in \u001b[0;36m_wrapfunc\u001b[1;34m(obj, method, *args, **kwds)\u001b[0m\n\u001b[0;32m     56\u001b[0m \u001b[1;33m\u001b[0m\u001b[0m\n\u001b[0;32m     57\u001b[0m     \u001b[1;32mtry\u001b[0m\u001b[1;33m:\u001b[0m\u001b[1;33m\u001b[0m\u001b[0m\n\u001b[1;32m---> 58\u001b[1;33m         \u001b[1;32mreturn\u001b[0m \u001b[0mbound\u001b[0m\u001b[1;33m(\u001b[0m\u001b[1;33m*\u001b[0m\u001b[0margs\u001b[0m\u001b[1;33m,\u001b[0m \u001b[1;33m**\u001b[0m\u001b[0mkwds\u001b[0m\u001b[1;33m)\u001b[0m\u001b[1;33m\u001b[0m\u001b[0m\n\u001b[0m\u001b[0;32m     59\u001b[0m     \u001b[1;32mexcept\u001b[0m \u001b[0mTypeError\u001b[0m\u001b[1;33m:\u001b[0m\u001b[1;33m\u001b[0m\u001b[0m\n\u001b[0;32m     60\u001b[0m         \u001b[1;31m# A TypeError occurs if the object does have such a method in its\u001b[0m\u001b[1;33m\u001b[0m\u001b[1;33m\u001b[0m\u001b[0m\n",
      "\u001b[1;31mValueError\u001b[0m: attempt to get argmax of an empty sequence"
     ]
    }
   ],
   "metadata": {}
  },
  {
   "cell_type": "code",
   "execution_count": 46,
   "source": [
    "X, y = diabetic_unfold[X_cols].values, diabetic_unfold['ReturnedAfter30'].values\r\n",
    "#scaler_test = StandardScaler(with_mean=False, with_std=False)\r\n",
    "clf_selected = RandomForestClassifier(bootstrap=True, criterion=\"entropy\",max_features=0.1,min_samples_leaf=0.01,\r\n",
    "                            min_samples_split=0.01,n_estimators=400,oob_score=True)\r\n",
    "X_train, X_test, y_train, y_test = train_test_split(X, y, train_size=0.7)\r\n",
    "clf_cardiac, proba_cardiac, y_test_cardiac, fpr_car, tpr_car = evaluate_model(clf_selected,X, y, total_samples=1, train_size=0.7, smote=True,best_model=True)"
   ],
   "outputs": [
    {
     "output_type": "stream",
     "name": "stdout",
     "text": [
      "AUC: nan +- nan\n",
      "Sensitivity: nan +- nan\n",
      "Specificity: nan +- nan\n",
      "Positive Predictive Values: nan +- nan\n",
      "Accuracy: nan +- nan\n"
     ]
    },
    {
     "output_type": "stream",
     "name": "stderr",
     "text": [
      "Mean of empty slice.\n",
      "invalid value encountered in double_scalars\n",
      "Degrees of freedom <= 0 for slice\n",
      "invalid value encountered in true_divide\n",
      "invalid value encountered in double_scalars\n"
     ]
    },
    {
     "output_type": "error",
     "ename": "ValueError",
     "evalue": "attempt to get argmax of an empty sequence",
     "traceback": [
      "\u001b[1;31m---------------------------------------------------------------------------\u001b[0m",
      "\u001b[1;31mValueError\u001b[0m                                Traceback (most recent call last)",
      "\u001b[1;32m<ipython-input-46-d848d8bf4a48>\u001b[0m in \u001b[0;36m<module>\u001b[1;34m\u001b[0m\n\u001b[0;32m      4\u001b[0m                             min_samples_split=0.01,n_estimators=400,oob_score=True)\n\u001b[0;32m      5\u001b[0m \u001b[0mX_train\u001b[0m\u001b[1;33m,\u001b[0m \u001b[0mX_test\u001b[0m\u001b[1;33m,\u001b[0m \u001b[0my_train\u001b[0m\u001b[1;33m,\u001b[0m \u001b[0my_test\u001b[0m \u001b[1;33m=\u001b[0m \u001b[0mtrain_test_split\u001b[0m\u001b[1;33m(\u001b[0m\u001b[0mX\u001b[0m\u001b[1;33m,\u001b[0m \u001b[0my\u001b[0m\u001b[1;33m,\u001b[0m \u001b[0mtrain_size\u001b[0m\u001b[1;33m=\u001b[0m\u001b[1;36m0.7\u001b[0m\u001b[1;33m)\u001b[0m\u001b[1;33m\u001b[0m\u001b[0m\n\u001b[1;32m----> 6\u001b[1;33m \u001b[0mclf_cardiac\u001b[0m\u001b[1;33m,\u001b[0m \u001b[0mproba_cardiac\u001b[0m\u001b[1;33m,\u001b[0m \u001b[0my_test_cardiac\u001b[0m\u001b[1;33m,\u001b[0m \u001b[0mfpr_car\u001b[0m\u001b[1;33m,\u001b[0m \u001b[0mtpr_car\u001b[0m \u001b[1;33m=\u001b[0m \u001b[0mevaluate_model\u001b[0m\u001b[1;33m(\u001b[0m\u001b[0mclf_selected\u001b[0m\u001b[1;33m,\u001b[0m\u001b[0mX\u001b[0m\u001b[1;33m,\u001b[0m \u001b[0my\u001b[0m\u001b[1;33m,\u001b[0m \u001b[0mtotal_samples\u001b[0m\u001b[1;33m=\u001b[0m\u001b[1;36m1\u001b[0m\u001b[1;33m,\u001b[0m \u001b[0mtrain_size\u001b[0m\u001b[1;33m=\u001b[0m\u001b[1;36m0.7\u001b[0m\u001b[1;33m,\u001b[0m \u001b[0msmote\u001b[0m\u001b[1;33m=\u001b[0m\u001b[1;32mTrue\u001b[0m\u001b[1;33m,\u001b[0m\u001b[0mbest_model\u001b[0m\u001b[1;33m=\u001b[0m\u001b[1;32mTrue\u001b[0m\u001b[1;33m)\u001b[0m\u001b[1;33m\u001b[0m\u001b[0m\n\u001b[0m",
      "\u001b[1;32m<ipython-input-40-5af3a38ec681>\u001b[0m in \u001b[0;36mevaluate_model\u001b[1;34m(classifier, X, y, train_size, total_samples, smote, best_model)\u001b[0m\n\u001b[0;32m     54\u001b[0m     \u001b[1;32mif\u001b[0m \u001b[0mbest_model\u001b[0m \u001b[1;32mis\u001b[0m \u001b[1;32mTrue\u001b[0m\u001b[1;33m:\u001b[0m\u001b[1;33m\u001b[0m\u001b[0m\n\u001b[0;32m     55\u001b[0m         \u001b[0mbest_vals\u001b[0m \u001b[1;33m=\u001b[0m \u001b[0mppv_vals\u001b[0m\u001b[1;33m*\u001b[0m\u001b[1;36m1.25\u001b[0m \u001b[1;33m+\u001b[0m \u001b[0msensitivity_vals\u001b[0m\u001b[1;33m\u001b[0m\u001b[0m\n\u001b[1;32m---> 56\u001b[1;33m         \u001b[0mmax_ppv_index\u001b[0m \u001b[1;33m=\u001b[0m \u001b[0mnp\u001b[0m\u001b[1;33m.\u001b[0m\u001b[0margmax\u001b[0m\u001b[1;33m(\u001b[0m\u001b[0mbest_vals\u001b[0m\u001b[1;33m)\u001b[0m\u001b[1;33m\u001b[0m\u001b[0m\n\u001b[0m\u001b[0;32m     57\u001b[0m         \u001b[0mprint\u001b[0m\u001b[1;33m(\u001b[0m\u001b[0mmax_ppv_index\u001b[0m\u001b[1;33m)\u001b[0m\u001b[1;33m\u001b[0m\u001b[0m\n\u001b[0;32m     58\u001b[0m         \u001b[0mprint\u001b[0m\u001b[1;33m(\u001b[0m\u001b[1;34m'The highest ppv model has the following:'\u001b[0m\u001b[1;33m)\u001b[0m\u001b[1;33m\u001b[0m\u001b[0m\n",
      "\u001b[1;32m<__array_function__ internals>\u001b[0m in \u001b[0;36margmax\u001b[1;34m(*args, **kwargs)\u001b[0m\n",
      "\u001b[1;32md:\\Globant\\Task3\\.venv\\lib\\site-packages\\numpy\\core\\fromnumeric.py\u001b[0m in \u001b[0;36margmax\u001b[1;34m(a, axis, out)\u001b[0m\n\u001b[0;32m   1186\u001b[0m \u001b[1;33m\u001b[0m\u001b[0m\n\u001b[0;32m   1187\u001b[0m     \"\"\"\n\u001b[1;32m-> 1188\u001b[1;33m     \u001b[1;32mreturn\u001b[0m \u001b[0m_wrapfunc\u001b[0m\u001b[1;33m(\u001b[0m\u001b[0ma\u001b[0m\u001b[1;33m,\u001b[0m \u001b[1;34m'argmax'\u001b[0m\u001b[1;33m,\u001b[0m \u001b[0maxis\u001b[0m\u001b[1;33m=\u001b[0m\u001b[0maxis\u001b[0m\u001b[1;33m,\u001b[0m \u001b[0mout\u001b[0m\u001b[1;33m=\u001b[0m\u001b[0mout\u001b[0m\u001b[1;33m)\u001b[0m\u001b[1;33m\u001b[0m\u001b[0m\n\u001b[0m\u001b[0;32m   1189\u001b[0m \u001b[1;33m\u001b[0m\u001b[0m\n\u001b[0;32m   1190\u001b[0m \u001b[1;33m\u001b[0m\u001b[0m\n",
      "\u001b[1;32md:\\Globant\\Task3\\.venv\\lib\\site-packages\\numpy\\core\\fromnumeric.py\u001b[0m in \u001b[0;36m_wrapfunc\u001b[1;34m(obj, method, *args, **kwds)\u001b[0m\n\u001b[0;32m     56\u001b[0m \u001b[1;33m\u001b[0m\u001b[0m\n\u001b[0;32m     57\u001b[0m     \u001b[1;32mtry\u001b[0m\u001b[1;33m:\u001b[0m\u001b[1;33m\u001b[0m\u001b[0m\n\u001b[1;32m---> 58\u001b[1;33m         \u001b[1;32mreturn\u001b[0m \u001b[0mbound\u001b[0m\u001b[1;33m(\u001b[0m\u001b[1;33m*\u001b[0m\u001b[0margs\u001b[0m\u001b[1;33m,\u001b[0m \u001b[1;33m**\u001b[0m\u001b[0mkwds\u001b[0m\u001b[1;33m)\u001b[0m\u001b[1;33m\u001b[0m\u001b[0m\n\u001b[0m\u001b[0;32m     59\u001b[0m     \u001b[1;32mexcept\u001b[0m \u001b[0mTypeError\u001b[0m\u001b[1;33m:\u001b[0m\u001b[1;33m\u001b[0m\u001b[0m\n\u001b[0;32m     60\u001b[0m         \u001b[1;31m# A TypeError occurs if the object does have such a method in its\u001b[0m\u001b[1;33m\u001b[0m\u001b[1;33m\u001b[0m\u001b[0m\n",
      "\u001b[1;31mValueError\u001b[0m: attempt to get argmax of an empty sequence"
     ]
    }
   ],
   "metadata": {}
  },
  {
   "cell_type": "code",
   "execution_count": null,
   "source": [
    "diabetic_data.TypeCondition.drop_duplicates()"
   ],
   "outputs": [],
   "metadata": {}
  },
  {
   "cell_type": "markdown",
   "source": [
    "Now, let's evaluate for each model"
   ],
   "metadata": {}
  },
  {
   "cell_type": "markdown",
   "source": [
    "## No Readmission"
   ],
   "metadata": {}
  },
  {
   "cell_type": "code",
   "execution_count": null,
   "source": [
    "X, y = diabetic_data[X_cols].values, diabetic_data['NoReadmission'].values\r\n",
    "#scaler_test = StandardScaler(with_mean=False, with_std=False)\r\n",
    "clf_selected = RandomForestClassifier(bootstrap=True, criterion=\"entropy\",max_features=0.1,min_samples_leaf=0.01,\r\n",
    "                            min_samples_split=0.01,n_estimators=400,oob_score=True)\r\n",
    "clf_selected = RandomForestClassifier(bootstrap=True, criterion=\"entropy\",max_features=0.1,min_samples_leaf=0.01,\r\n",
    "                            min_samples_split=0.01,n_estimators=400,oob_score=True)\r\n",
    "X_train, X_test, y_train, y_test = train_test_split(X, y, train_size=0.7)\r\n",
    "clf_cardiac, proba_cardiac, y_test_cardiac, fpr_car, tpr_car = evaluate_model(clf_selected,X, y, total_samples=15, train_size=0.7, smote=False,best_model=True)\r\n",
    "#clf = clf_selected\r\n",
    "#model = clf.fit(X_train,y_train)\r\n",
    "#y_hat = model.predict_proba(X_test)\r\n",
    "#clf_nr, proba_nr, y_test_nr, fpr_nr, tpr_nr = evaluate_model(clf_selected,X, y, total_samples=200, train_size=0.7, smote=False,best_model=True)"
   ],
   "outputs": [],
   "metadata": {}
  },
  {
   "cell_type": "code",
   "execution_count": null,
   "source": [
    "diabetic_data.readmitted"
   ],
   "outputs": [],
   "metadata": {}
  },
  {
   "cell_type": "code",
   "execution_count": null,
   "source": [
    "diabetic_data.NoReadmission"
   ],
   "outputs": [],
   "metadata": {}
  },
  {
   "cell_type": "code",
   "execution_count": null,
   "source": [
    "X, y = diabetic_data[X_cols].values, diabetic_data['readmitted'].values\r\n",
    "#scaler_test = StandardScaler(with_mean=False, with_std=False)\r\n",
    "clf_selected = RandomForestClassifier(bootstrap=True, criterion=\"entropy\",max_features=0.1,min_samples_leaf=0.01,\r\n",
    "                            min_samples_split=0.01,n_estimators=400,oob_score=True)\r\n",
    "X_train, X_test, y_train, y_test = train_test_split(X, y, train_size=0.7)\r\n",
    "#clf_cardiac, proba_cardiac, y_test_cardiac, fpr_car, tpr_car = evaluate_model(clf_selected,X, y, total_samples=200, train_size=0.7, smote=True,best_model=True)\r\n",
    "clf = clf_selected\r\n",
    "model = clf.fit(X_train,y_train)\r\n",
    "y_hat = model.predict_proba(X_test)"
   ],
   "outputs": [],
   "metadata": {}
  },
  {
   "cell_type": "code",
   "execution_count": null,
   "source": [
    "y_hat"
   ],
   "outputs": [],
   "metadata": {}
  },
  {
   "cell_type": "code",
   "execution_count": null,
   "source": [
    "y_test"
   ],
   "outputs": [],
   "metadata": {}
  },
  {
   "cell_type": "code",
   "execution_count": null,
   "source": [
    "X_cols = ['discharged_home','num_race','num_gender','num_age','time_in_hospital','change_bin','diabetesMed_bin','num_TypeCondition','A1Cresult_bin']\r\n",
    "y_cols = 'readmitted'\r\n",
    "lda = LinearDiscriminantAnalysis(n_components=2)\r\n",
    "X_r2 = lda.fit(diabetic_data[X_cols], diabetic_data.num_readmitted.values).transform(diabetic_data[X_cols])\r\n",
    "pca = PCA(n_components=2)\r\n",
    "X_r = pca.fit(diabetic_data[X_cols]).transform(diabetic_data[X_cols])"
   ],
   "outputs": [],
   "metadata": {}
  },
  {
   "cell_type": "code",
   "execution_count": null,
   "source": [
    "plt.figure()\r\n",
    "\r\n",
    "for color, i, target_name in zip(colors, [0, 1, 2], target_names_diabetic):\r\n",
    "    plt.scatter(X_r[y_diabetic == i, 0], X_r[y_diabetic == i, 1], alpha=.8, color=color,\r\n",
    "                label=target_name)\r\n",
    "plt.legend(loc='best', shadow=False, scatterpoints=1)\r\n",
    "plt.title('LDA of IRIS dataset')\r\n",
    "\r\n",
    "plt.show()"
   ],
   "outputs": [],
   "metadata": {}
  },
  {
   "cell_type": "code",
   "execution_count": null,
   "source": [
    "diabetic_data.num_readmitted"
   ],
   "outputs": [],
   "metadata": {}
  },
  {
   "cell_type": "code",
   "execution_count": null,
   "source": [
    "X = iris.data\r\n",
    "y = iris.target\r\n",
    "target_names = iris.target_names"
   ],
   "outputs": [],
   "metadata": {}
  },
  {
   "cell_type": "code",
   "execution_count": null,
   "source": [
    "X.shape\r\n",
    "y.shape"
   ],
   "outputs": [],
   "metadata": {}
  },
  {
   "cell_type": "code",
   "execution_count": null,
   "source": [
    "diabetic_data[X_cols].shape\r\n",
    "y_diabetic = diabetic_data.num_readmitted.values"
   ],
   "outputs": [],
   "metadata": {}
  },
  {
   "cell_type": "code",
   "execution_count": null,
   "source": [
    "lda = LinearDiscriminantAnalysis(n_components=2)\r\n",
    "X_r2 = lda.fit(diabetic_data[X_cols], diabetic_data.num_readmitted.values).transform(diabetic_data[X_cols])"
   ],
   "outputs": [],
   "metadata": {}
  },
  {
   "cell_type": "code",
   "execution_count": null,
   "source": [
    "X_r2.shape"
   ],
   "outputs": [],
   "metadata": {}
  },
  {
   "cell_type": "code",
   "execution_count": null,
   "source": [
    "target_names_diabetic = np.array(['No','<30','>30'])"
   ],
   "outputs": [],
   "metadata": {}
  },
  {
   "cell_type": "code",
   "execution_count": null,
   "source": [
    "X_r2[y_diabetic == 0, 0]"
   ],
   "outputs": [],
   "metadata": {}
  },
  {
   "cell_type": "code",
   "execution_count": null,
   "source": [
    "plt.figure()\r\n",
    "for color, i, target_name in zip(colors, [0,1,2], target_names_diabetic):\r\n",
    "    plt.scatter(X_r2[y == i, 0], X_r2[y_diabetic == i, 1], alpha=.8, color=color,\r\n",
    "                label=target_name)\r\n",
    "plt.legend(loc='best', shadow=False, scatterpoints=1)\r\n",
    "plt.title('LDA of IRIS dataset')\r\n",
    "\r\n",
    "plt.show()"
   ],
   "outputs": [],
   "metadata": {}
  },
  {
   "cell_type": "code",
   "execution_count": null,
   "source": [
    "colors"
   ],
   "outputs": [],
   "metadata": {}
  },
  {
   "cell_type": "code",
   "execution_count": null,
   "source": [
    "plt.figure()\r\n",
    "for color, i, target_name in zip(colors, [0,1,2], target_names):\r\n",
    "    plt.scatter(X_r2[y == i, 0], X_r2[y == i, 1], alpha=.8, color=color,\r\n",
    "                label=target_name)\r\n",
    "plt.legend(loc='best', shadow=False, scatterpoints=1)\r\n",
    "plt.title('LDA of IRIS dataset')\r\n",
    "\r\n",
    "plt.show()"
   ],
   "outputs": [],
   "metadata": {}
  },
  {
   "cell_type": "code",
   "execution_count": null,
   "source": [
    "X_cols = ['discharged_home','num_race','num_gender','num_age','time_in_hospital','change_bin','diabetesMed_bin','num_TypeCondition','A1Cresult_bin']\r\n",
    "y_cols = 'readmitted'\r\n",
    "X_pca = diabetic_data[X_cols].values\r\n",
    "y = diabetic_data.readmitted\r\n",
    "pca = PCA(n_components=2)\r\n",
    "X_r_pca = pca.fit(X_pca).transform(X_pca)"
   ],
   "outputs": [],
   "metadata": {}
  },
  {
   "cell_type": "code",
   "execution_count": null,
   "source": [
    "\r\n",
    "plt.figure()\r\n",
    "for color, i, target_name in zip(colors, [0, 1, 2], y):\r\n",
    "    plt.scatter(X_r_pca[y == i, 0], X_r_pca[y == i, 1], alpha=.8, color=color,\r\n",
    "                label=target_name)\r\n",
    "plt.legend(loc='best', shadow=False, scatterpoints=1)\r\n",
    "plt.title('LDA of IRIS dataset')\r\n",
    "\r\n",
    "plt.show()"
   ],
   "outputs": [],
   "metadata": {}
  },
  {
   "cell_type": "code",
   "execution_count": null,
   "source": [
    "X_r.shape"
   ],
   "outputs": [],
   "metadata": {}
  },
  {
   "cell_type": "code",
   "execution_count": null,
   "source": [
    "X_r_pca[:,0]"
   ],
   "outputs": [],
   "metadata": {}
  },
  {
   "cell_type": "code",
   "execution_count": null,
   "source": [
    "plt.figure()\r\n",
    "colors = ['navy', 'turquoise', 'darkorange']\r\n",
    "lw = 2\r\n",
    "target_names = diabetic_data.readmitted.drop_duplicates().values"
   ],
   "outputs": [],
   "metadata": {}
  },
  {
   "cell_type": "code",
   "execution_count": null,
   "source": [
    "X_r"
   ],
   "outputs": [],
   "metadata": {}
  },
  {
   "cell_type": "code",
   "execution_count": null,
   "source": [
    "plt.scatter(X_r[:, 0], X_r[:, 1])"
   ],
   "outputs": [],
   "metadata": {}
  },
  {
   "cell_type": "code",
   "execution_count": null,
   "source": [
    "for color, i, target_name in zip(colors, [0, 1, 2], target_names):\r\n",
    "    plt.scatter(X_r[y == i, 0], X_r[y == i, 1], color=color, alpha=.8, lw=lw,\r\n",
    "                label=target_name)\r\n",
    "plt.legend(loc='best', shadow=False, scatterpoints=1)\r\n",
    "plt.title('PCA of IRIS dataset')"
   ],
   "outputs": [],
   "metadata": {}
  },
  {
   "cell_type": "code",
   "execution_count": null,
   "source": [
    "(data_filtered['medical_specialty'].value_counts()/data_filtered['medical_specialty'].count())*100"
   ],
   "outputs": [],
   "metadata": {}
  },
  {
   "cell_type": "code",
   "execution_count": null,
   "source": [
    "(data_filtered['admission_source_id'].value_counts()/data_filtered['admission_source_id'].count())*100"
   ],
   "outputs": [],
   "metadata": {}
  },
  {
   "cell_type": "code",
   "execution_count": null,
   "source": [
    "data_filtered.medical_specialty.drop_duplicates()"
   ],
   "outputs": [],
   "metadata": {}
  },
  {
   "cell_type": "code",
   "execution_count": null,
   "source": [
    "data_filtered['discharge_disposition_id'].drop_duplicates()"
   ],
   "outputs": [],
   "metadata": {}
  },
  {
   "cell_type": "code",
   "execution_count": null,
   "source": [
    "target_names"
   ],
   "outputs": [],
   "metadata": {}
  },
  {
   "cell_type": "code",
   "execution_count": null,
   "source": [
    "plt.scatter(X_r[y == 0, 0],X_r[y == 0, 1])"
   ],
   "outputs": [],
   "metadata": {}
  },
  {
   "cell_type": "code",
   "execution_count": null,
   "source": [
    "###Experiment zone\r\n",
    "import matplotlib.pyplot as plt\r\n",
    "\r\n",
    "from sklearn import datasets\r\n",
    "from sklearn.decomposition import PCA\r\n",
    "from sklearn.discriminant_analysis import LinearDiscriminantAnalysis\r\n",
    "\r\n",
    "iris = datasets.load_iris()\r\n",
    "\r\n",
    "X = iris.data\r\n",
    "y = iris.target\r\n",
    "target_names = iris.target_names\r\n",
    "\r\n",
    "pca = PCA(n_components=2)\r\n",
    "X_r = pca.fit(X).transform(X)\r\n",
    "\r\n",
    "lda = LinearDiscriminantAnalysis(n_components=2)\r\n",
    "X_r2 = lda.fit(X, y).transform(X)\r\n",
    "\r\n",
    "# Percentage of variance explained for each components\r\n",
    "print('explained variance ratio (first two components): %s'\r\n",
    "      % str(pca.explained_variance_ratio_))\r\n",
    "\r\n",
    "plt.figure()\r\n",
    "colors = ['navy', 'turquoise', 'darkorange']\r\n",
    "lw = 2\r\n",
    "\r\n",
    "for color, i, target_name in zip(colors, [0, 1, 2], target_names):\r\n",
    "    plt.scatter(X_r[y == i, 0], X_r[y == i, 1], color=color, alpha=.8, lw=lw,\r\n",
    "                label=target_name)\r\n",
    "plt.legend(loc='best', shadow=False, scatterpoints=1)\r\n",
    "plt.title('PCA of IRIS dataset')\r\n",
    "\r\n",
    "plt.figure()\r\n",
    "for color, i, target_name in zip(colors, [0, 1, 2], target_names):\r\n",
    "    plt.scatter(X_r2[y == i, 0], X_r2[y == i, 1], alpha=.8, color=color,\r\n",
    "                label=target_name)\r\n",
    "plt.legend(loc='best', shadow=False, scatterpoints=1)\r\n",
    "plt.title('LDA of IRIS dataset')\r\n",
    "\r\n",
    "plt.show()"
   ],
   "outputs": [],
   "metadata": {}
  },
  {
   "cell_type": "code",
   "execution_count": null,
   "source": [
    "len(medicine_cols)"
   ],
   "outputs": [],
   "metadata": {}
  },
  {
   "cell_type": "code",
   "execution_count": null,
   "source": [
    "data_filtered.miglitol_bin.sum()"
   ],
   "outputs": [],
   "metadata": {}
  },
  {
   "cell_type": "code",
   "execution_count": null,
   "source": [
    "data_filtered.columns"
   ],
   "outputs": [],
   "metadata": {}
  },
  {
   "cell_type": "code",
   "execution_count": null,
   "source": [
    "data_filtered.loc[data_filtered.diag_1 == '?'].diag_1"
   ],
   "outputs": [],
   "metadata": {}
  },
  {
   "cell_type": "code",
   "execution_count": null,
   "source": [
    "(data_filtered['num_medications'].value_counts()/data_filtered['num_medications'].count())*100"
   ],
   "outputs": [],
   "metadata": {}
  },
  {
   "cell_type": "code",
   "execution_count": null,
   "source": [
    "(data_filtered['any_medicine'].value_counts()/data_filtered['any_medicine'].count())*100"
   ],
   "outputs": [],
   "metadata": {}
  },
  {
   "cell_type": "code",
   "execution_count": null,
   "source": [
    "data_filtered="
   ],
   "outputs": [],
   "metadata": {}
  },
  {
   "cell_type": "code",
   "execution_count": null,
   "source": [
    "data_filtered.diag_1"
   ],
   "outputs": [],
   "metadata": {}
  },
  {
   "cell_type": "markdown",
   "source": [
    "## Clustering"
   ],
   "metadata": {}
  },
  {
   "cell_type": "markdown",
   "source": [
    "## Model creation"
   ],
   "metadata": {}
  },
  {
   "cell_type": "code",
   "execution_count": null,
   "source": [
    "print(data.time_in_hospital.drop_duplicates())\r\n",
    "print(data.max_glu_serum.drop_duplicates())\r\n",
    "#ax = sns.distplot(data.age)"
   ],
   "outputs": [],
   "metadata": {}
  },
  {
   "cell_type": "code",
   "execution_count": null,
   "source": [
    "data['change'].drop_duplicates()"
   ],
   "outputs": [],
   "metadata": {}
  },
  {
   "cell_type": "code",
   "execution_count": null,
   "source": [
    "data.groupby('weight').count()"
   ],
   "outputs": [],
   "metadata": {}
  },
  {
   "cell_type": "markdown",
   "source": [],
   "metadata": {}
  },
  {
   "cell_type": "code",
   "execution_count": null,
   "source": [
    "data.shape[0]\r\n",
    "data.number_emergency"
   ],
   "outputs": [],
   "metadata": {}
  },
  {
   "cell_type": "code",
   "execution_count": null,
   "source": [
    "data.race.drop_duplicates()"
   ],
   "outputs": [],
   "metadata": {}
  }
 ],
 "metadata": {
  "orig_nbformat": 4,
  "language_info": {
   "name": "python",
   "version": "3.6.6",
   "mimetype": "text/x-python",
   "codemirror_mode": {
    "name": "ipython",
    "version": 3
   },
   "pygments_lexer": "ipython3",
   "nbconvert_exporter": "python",
   "file_extension": ".py"
  },
  "kernelspec": {
   "name": "python3",
   "display_name": "Python 3.6.6 64-bit ('.venv': venv)"
  },
  "interpreter": {
   "hash": "8b20f53f5dcd2f3ce97636f095ce632c833916ac086b6261ba648c7d515c0ce2"
  }
 },
 "nbformat": 4,
 "nbformat_minor": 2
}